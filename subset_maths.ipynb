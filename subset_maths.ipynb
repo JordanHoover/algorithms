{
  "nbformat": 4,
  "nbformat_minor": 0,
  "metadata": {
    "colab": {
      "name": "subset_maths.ipynb",
      "provenance": [],
      "collapsed_sections": [],
      "authorship_tag": "ABX9TyOcIeIB5Ii+8VAm3lo2GaKv"
    },
    "kernelspec": {
      "name": "python3",
      "display_name": "Python 3"
    },
    "language_info": {
      "name": "python"
    }
  },
  "cells": [
    {
      "cell_type": "code",
      "metadata": {
        "id": "kowj7LNwkqgB"
      },
      "source": [
        "num_set = [1,2,3,4]\n",
        "target = 6\n",
        "answer = []"
      ],
      "execution_count": 3,
      "outputs": []
    },
    {
      "cell_type": "code",
      "metadata": {
        "id": "Yqf-2UXQknzI"
      },
      "source": [
        "# n is going to store the operation to use\n",
        "# so that I can add it to the current set after each time through\n",
        "def the_function(num_set, target, n=\"+\", curr_set=\"\", answer_set=[]):\n",
        "    \n",
        "    # todo: handle the initial operator case. default to plus should work. \n",
        "    # n will have to equal the PREVIOUS operator given by the previous recursive call\n",
        "    # so I think we need to add the current number to the curr_set BEFORE doing the eval\n",
        "    # otherwise the eval will be missing the operators and just look like \"1+\" instead of \"1+2\"\n",
        "    \n",
        "    \n",
        "    # add current first number in the list to the curr_set\n",
        "    curr_set += str(num_set[0])\n",
        "    \n",
        "    # base case if done going through the list\n",
        "    if num_set==[]: return\n",
        "    \n",
        "    if eval(curr_set)==target: \n",
        "        answer_set.append(curr_set)\n",
        "        curr_set=\"\"\n",
        "        return\n",
        "    \n",
        "    # todo else append the current number to the current set along with the current operation\n",
        "    # and if I can get it working for 1 operation, add the other 3\n",
        "    \n",
        "    # appending the operator should happen at the end after the evaluations have been done\n",
        "    curr_set+=n\n",
        "\n",
        "    \n",
        "    # todo: fix branching: for item in the list, for each operator, i need branching that runs with including the current number \n",
        "    # in calculating the answer and runs again without including the current number,\n",
        "    # and after getting it working for the plus operator, it will need to branch for each of the other three,\n",
        "    # so that is 5 branchings total, either it's included or not included (2) and then for when included, it's included with 1/4 operators\n",
        "    \n",
        "    # loop with including the current number\n",
        "    the_function(num_set=num_set[1::], target=target, n=\"+\", curr_set=curr_set, answer_set= answer_set)\n",
        "    \n",
        "    return answer_set"
      ],
      "execution_count": 31,
      "outputs": []
    },
    {
      "cell_type": "code",
      "metadata": {
        "colab": {
          "base_uri": "https://localhost:8080/"
        },
        "id": "IBQSQVYBku5L",
        "outputId": "6e466165-2bd4-4271-9966-de9e79e64781"
      },
      "source": [
        "the_function(num_set, target)"
      ],
      "execution_count": 32,
      "outputs": [
        {
          "output_type": "execute_result",
          "data": {
            "text/plain": [
              "['1+2+3']"
            ]
          },
          "metadata": {
            "tags": []
          },
          "execution_count": 32
        }
      ]
    },
    {
      "cell_type": "code",
      "metadata": {
        "id": "6XUIIg2DuJY6"
      },
      "source": [
        ""
      ],
      "execution_count": null,
      "outputs": []
    },
    {
      "cell_type": "markdown",
      "metadata": {
        "id": "vfKLXYJPuLPM"
      },
      "source": [
        "# layout of the problem\n",
        "\n",
        "- I already know I plan be updaing the current solution set at the end right before the loop happens,\n",
        "\n",
        "- but i have to find a clean way to add the operator to the solution set\n",
        "- I am thinking that I should be able to add it or remove it at the same \n",
        "- time that I add or remove the number to the list.\n",
        "- the only problem would be first time through if I try to add an operator to nothing before it:\n",
        "- so starting with list 1, 2, 3, we can include the 1, or we can not include\n",
        "the 1."
      ]
    },
    {
      "cell_type": "code",
      "metadata": {
        "id": "2d5C2vbykwvy"
      },
      "source": [
        "\n",
        "def the_function(num_set, target, n=\"+\", curr_set=\"\", answer_set=[]):\n",
        "\n",
        "    if curr_set !=\"\":\n",
        "      if eval(curr_set)==target: \n",
        "          answer_set.append(curr_set)\n",
        "          curr_set=\"\"\n",
        "          return\n",
        "\n",
        "    if num_set==[]: return\n",
        "    \n",
        "    # loop without including the current item\n",
        "    the_function(num_set=num_set[1::], target=target, n=\"+\", curr_set=curr_set, answer_set= answer_set)\n",
        "\n",
        "    # loop while including the current number in the solution set \n",
        "    # for when i do add the current number in the solution set, I must check and see if the curr_set is empty or not\n",
        "    if curr_set != \"\":\n",
        "      # add the opeartor. this might actually be the part to add different operators \n",
        "      # just branch to add 3 more curr_set vars and then loop through it\n",
        "      \n",
        "      # create a temp var for the current set to hold the curr potential solution set \n",
        "      curr_temp = curr_set\n",
        "\n",
        "      # curr_set+=n\n",
        "      curr_set+='+'\n",
        "      # add the current number\n",
        "      curr_set += str(num_set[0])\n",
        "      # do the looping\n",
        "      the_function(num_set=num_set[1::], target=target, n=\"+\", curr_set=curr_set, answer_set= answer_set)\n",
        "\n",
        "      # add loop for multiplication\n",
        "      curr_setm = curr_temp + '*'\n",
        "      # add the current number\n",
        "      curr_setm += str(num_set[0])\n",
        "      # do the looping\n",
        "      the_function(num_set=num_set[1::], target=target, n=\"+\", curr_set=curr_setm, answer_set= answer_set)\n",
        "\n",
        "       # add loop for subtraction\n",
        "      curr_sets = curr_temp + '-'\n",
        "      # add the current number\n",
        "      curr_sets += str(num_set[0])\n",
        "      # do the looping\n",
        "      the_function(num_set=num_set[1::], target=target, n=\"+\", curr_set=curr_sets, answer_set= answer_set)\n",
        "\n",
        "\n",
        "       # add loop for division\n",
        "      curr_setd = curr_temp + '/'\n",
        "      # add the current number\n",
        "      curr_setd += str(num_set[0])\n",
        "      # do the looping\n",
        "      the_function(num_set=num_set[1::], target=target, n=\"+\", curr_set=curr_setd, answer_set= answer_set)\n",
        "\n",
        "    \n",
        "    else: \n",
        "        # only add the current number and loop, not the operator\n",
        "      curr_set += str(num_set[0])\n",
        "      the_function(num_set=num_set[1::], target=target, n=\"+\", curr_set=curr_set, answer_set= answer_set)\n",
        "    \n",
        "    return answer_set"
      ],
      "execution_count": 5,
      "outputs": []
    },
    {
      "cell_type": "code",
      "metadata": {
        "colab": {
          "base_uri": "https://localhost:8080/"
        },
        "id": "bTnRFCt1qIJh",
        "outputId": "505e7966-e323-4437-d0ce-d4a3a618e20e"
      },
      "source": [
        "the_function(num_set, 6)"
      ],
      "execution_count": 6,
      "outputs": [
        {
          "output_type": "execute_result",
          "data": {
            "text/plain": [
              "['2+4', '2*3', '1+2+3', '1*2+4', '1*2*3', '1-2+3+4', '1/2*3*4']"
            ]
          },
          "metadata": {
            "tags": []
          },
          "execution_count": 6
        }
      ]
    },
    {
      "cell_type": "code",
      "metadata": {
        "id": "iiganqLjr4co"
      },
      "source": [
        "a = [1,2,3,4]"
      ],
      "execution_count": 66,
      "outputs": []
    },
    {
      "cell_type": "code",
      "metadata": {
        "colab": {
          "base_uri": "https://localhost:8080/"
        },
        "id": "tWjBMKFQxN2G",
        "outputId": "b7cf47ef-6b38-42f8-9bd2-979b4ae8713c"
      },
      "source": [
        "for i,v in enumerate(a):\n",
        "  print(f'index: {i} \\n value: {v}')"
      ],
      "execution_count": 67,
      "outputs": [
        {
          "output_type": "stream",
          "text": [
            "index: 0 \n",
            " value: 1\n",
            "index: 1 \n",
            " value: 2\n",
            "index: 2 \n",
            " value: 3\n",
            "index: 3 \n",
            " value: 4\n"
          ],
          "name": "stdout"
        }
      ]
    },
    {
      "cell_type": "code",
      "metadata": {
        "id": "05JmNGA5IJOs"
      },
      "source": [
        "def the_function(num_set, target, n=\"+\", curr_set=\"\", answer_set=[]):\n",
        "\n",
        "    if curr_set !=\"\":\n",
        "      if eval(curr_set)==target: \n",
        "          answer_set.append(curr_set)\n",
        "          curr_set=\"\"\n",
        "          return\n",
        "\n",
        "    if num_set==[]: return\n",
        "    \n",
        "    # loop without including the current item\n",
        "    the_function(num_set=num_set[1::], target=target, n=\"+\", curr_set=curr_set, answer_set= answer_set)\n",
        "\n",
        "    # branch/loop while including the current number in the solution set, a branch for each operation\n",
        "    if curr_set != \"\":\n",
        "      \n",
        "      # create a temp var for the current set to hold the curr potential solution set \n",
        "      curr_temp = curr_set\n",
        "\n",
        "      # curr_set+=n\n",
        "      curr_set+='+'\n",
        "      # add the current number\n",
        "      curr_set += str(num_set[0])\n",
        "      # do the looping\n",
        "      the_function(num_set=num_set[1::], target=target, n=\"+\", curr_set=curr_set, answer_set= answer_set)\n",
        "\n",
        "      # add loop for multiplication\n",
        "      curr_setm = curr_temp + '*'  \n",
        "      curr_setm += str(num_set[0])\n",
        "      the_function(num_set=num_set[1::], target=target, n=\"+\", curr_set=curr_setm, answer_set= answer_set)\n",
        "\n",
        "       # add loop for subtraction\n",
        "      curr_sets = curr_temp + '-'\n",
        "      curr_sets += str(num_set[0])\n",
        "      the_function(num_set=num_set[1::], target=target, n=\"+\", curr_set=curr_sets, answer_set= answer_set)\n",
        "\n",
        "\n",
        "       # add loop for division\n",
        "      curr_setd = curr_temp + '/'\n",
        "      curr_setd += str(num_set[0])\n",
        "      the_function(num_set=num_set[1::], target=target, n=\"+\", curr_set=curr_setd, answer_set= answer_set)\n",
        "\n",
        "    \n",
        "    else: \n",
        "        # if the list is empty, only add the current number and loop, not the operator\n",
        "      curr_set += str(num_set[0])\n",
        "      the_function(num_set=num_set[1::], target=target, n=\"+\", curr_set=curr_set, answer_set= answer_set)\n",
        "    \n",
        "    return answer_set"
      ],
      "execution_count": 1,
      "outputs": []
    },
    {
      "cell_type": "code",
      "metadata": {
        "colab": {
          "base_uri": "https://localhost:8080/"
        },
        "id": "1PhJ7xER7oCw",
        "outputId": "0138ce6e-ef11-4fff-a0c3-a809b35e8ad3"
      },
      "source": [
        "num_set = [1,2,3,4,5]\n",
        "target = 10\n",
        "\n",
        "answer =the_function(num_set, target)\n",
        "for a in answer: \n",
        "  print(a)"
      ],
      "execution_count": 2,
      "outputs": [
        {
          "output_type": "stream",
          "text": [
            "2*5\n",
            "2+3+5\n",
            "2*3+4\n",
            "1+4+5\n",
            "1+2+3+4\n",
            "1+2+3*4-5\n",
            "1*2*5\n",
            "1*2+3+5\n",
            "1*2*3+4\n",
            "1/2*4*5\n"
          ],
          "name": "stdout"
        }
      ]
    },
    {
      "cell_type": "code",
      "metadata": {
        "id": "0Colneke9YKA"
      },
      "source": [
        ""
      ],
      "execution_count": 2,
      "outputs": []
    },
    {
      "cell_type": "code",
      "metadata": {
        "id": "4iy1ntsq7tvX"
      },
      "source": [
        ""
      ],
      "execution_count": null,
      "outputs": []
    }
  ]
}