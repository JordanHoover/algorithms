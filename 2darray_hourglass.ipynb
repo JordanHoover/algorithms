{
  "nbformat": 4,
  "nbformat_minor": 0,
  "metadata": {
    "colab": {
      "name": "2darray_hourglass.ipynb",
      "provenance": [],
      "collapsed_sections": [],
      "authorship_tag": "ABX9TyMrJ+s8m1kfrDBonLQsnsji",
      "include_colab_link": true
    },
    "kernelspec": {
      "name": "python3",
      "display_name": "Python 3"
    },
    "language_info": {
      "name": "python"
    }
  },
  "cells": [
    {
      "cell_type": "markdown",
      "metadata": {
        "id": "view-in-github",
        "colab_type": "text"
      },
      "source": [
        "<a href=\"https://colab.research.google.com/github/JordanHoover/algorithms/blob/master/2darray_hourglass.ipynb\" target=\"_parent\"><img src=\"https://colab.research.google.com/assets/colab-badge.svg\" alt=\"Open In Colab\"/></a>"
      ]
    },
    {
      "cell_type": "code",
      "metadata": {
        "id": "q-lHmBK2ioQ5"
      },
      "source": [
        "A = [[1,1,1,0,0,0],\n",
        "     [0,1,0,0,0,0],\n",
        "     [1,1,1,0,0,0],\n",
        "     [0,0,2,4,4,0],\n",
        "     [0,0,0,2,0,0],\n",
        "     [0,0,1,2,4,0]]"
      ],
      "execution_count": 5,
      "outputs": []
    },
    {
      "cell_type": "code",
      "metadata": {
        "id": "-8CmkXBei4RD"
      },
      "source": [
        "def sum_hourglass(arr):\n",
        "\n",
        "  # initialize max_sum to least possible sum to start\n",
        "  # 7 rows and 9 possible digits, positive and negative\n",
        "  max_sum = 7 * (-9)\n",
        "\n",
        "  for i in range(4):\n",
        "    for j in range(4):\n",
        "\n",
        "      # sum of the top of the hourglass\n",
        "      top = sum(arr[i][j:j+3])\n",
        "\n",
        "      # mid element: \n",
        "      mid = arr[i+1][j+1]\n",
        "\n",
        "      # bottom\n",
        "      bottom = sum(arr[i+2][j:j+3])\n",
        "\n",
        "      #add up sum:\n",
        "      curr_sum = top + mid + bottom\n",
        "      \n",
        "    # replace old max sum with the new max sums:\n",
        "      if curr_sum > max_sum: \n",
        "        max_sum = curr_sum\n",
        "\n",
        "\n",
        "  return max_sum\n",
        "\n"
      ],
      "execution_count": 29,
      "outputs": []
    },
    {
      "cell_type": "code",
      "metadata": {
        "colab": {
          "base_uri": "https://localhost:8080/"
        },
        "id": "WgB41pbpjZH0",
        "outputId": "21d59310-d68a-421d-fa55-f48a4b6d2a15"
      },
      "source": [
        "sum_hourglass(A)"
      ],
      "execution_count": 32,
      "outputs": [
        {
          "output_type": "execute_result",
          "data": {
            "text/plain": [
              "19"
            ]
          },
          "metadata": {
            "tags": []
          },
          "execution_count": 32
        }
      ]
    },
    {
      "cell_type": "code",
      "metadata": {
        "id": "R0p0C2IKmybd"
      },
      "source": [
        ""
      ],
      "execution_count": null,
      "outputs": []
    }
  ]
}