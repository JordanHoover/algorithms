{
  "nbformat": 4,
  "nbformat_minor": 0,
  "metadata": {
    "colab": {
      "name": "array_odd_even_func.ipynb",
      "provenance": [],
      "collapsed_sections": [],
      "authorship_tag": "ABX9TyPFuHLr9NMu+vy39q57UygJ",
      "include_colab_link": true
    },
    "kernelspec": {
      "name": "python3",
      "display_name": "Python 3"
    }
  },
  "cells": [
    {
      "cell_type": "markdown",
      "metadata": {
        "id": "view-in-github",
        "colab_type": "text"
      },
      "source": [
        "<a href=\"https://colab.research.google.com/github/JordanHoover/algorithms/blob/master/array_odd_even_func.ipynb\" target=\"_parent\"><img src=\"https://colab.research.google.com/assets/colab-badge.svg\" alt=\"Open In Colab\"/></a>"
      ]
    },
    {
      "cell_type": "code",
      "metadata": {
        "id": "9uptBBcFSPet",
        "colab_type": "code",
        "colab": {}
      },
      "source": [
        ""
      ],
      "execution_count": 20,
      "outputs": []
    },
    {
      "cell_type": "code",
      "metadata": {
        "id": "G5BtzbAbPfEd",
        "colab_type": "code",
        "colab": {}
      },
      "source": [
        "#  create a function that will return even numbers from a list\n",
        "#  accepting a list of integers as the input\n",
        "def even_numbers(numbers: list):\n",
        "  return filter(lambda x: x%2==0, numbers)\n"
      ],
      "execution_count": 21,
      "outputs": []
    },
    {
      "cell_type": "code",
      "metadata": {
        "id": "Bpu2F_36QKjq",
        "colab_type": "code",
        "colab": {}
      },
      "source": [
        "#  create a list to try on the function\n",
        "list_1 = [1,2,3,4,3,2,52582,12938,222,128,2938,293877,291,21930984,3837349,39389, 39283290,3829833889,39939397845,4874729]"
      ],
      "execution_count": 22,
      "outputs": []
    },
    {
      "cell_type": "code",
      "metadata": {
        "id": "dTVXR5ejQNFH",
        "colab_type": "code",
        "colab": {
          "base_uri": "https://localhost:8080/",
          "height": 34
        },
        "outputId": "0db59f26-511a-45c2-d7cd-5d18d320d531"
      },
      "source": [
        "# try it: \n",
        "\n",
        "# this doesn't work because the filter function actually returns a filter\n",
        "even_numbers(list_1)\n",
        "type(even_numbers(list_1))"
      ],
      "execution_count": 23,
      "outputs": [
        {
          "output_type": "execute_result",
          "data": {
            "text/plain": [
              "filter"
            ]
          },
          "metadata": {
            "tags": []
          },
          "execution_count": 23
        }
      ]
    },
    {
      "cell_type": "code",
      "metadata": {
        "id": "ib1B7QJJRYiw",
        "colab_type": "code",
        "colab": {}
      },
      "source": [
        "#  turn result into list\n",
        "\n",
        "#  best way to do it is to modify the function to make it a list\n",
        "def even_numbers(numbers: list):\n",
        "  return list(filter(lambda x: x%2 == 0, numbers))\n"
      ],
      "execution_count": 24,
      "outputs": []
    },
    {
      "cell_type": "code",
      "metadata": {
        "id": "rANAaejIR2dX",
        "colab_type": "code",
        "colab": {
          "base_uri": "https://localhost:8080/",
          "height": 67
        },
        "outputId": "efb5e6d4-fb37-46bd-a96a-929b871017bf"
      },
      "source": [
        "%%time\n",
        "even_numbers(list_1)"
      ],
      "execution_count": 25,
      "outputs": [
        {
          "output_type": "stream",
          "text": [
            "CPU times: user 11 µs, sys: 2 µs, total: 13 µs\n",
            "Wall time: 16.5 µs\n"
          ],
          "name": "stdout"
        },
        {
          "output_type": "execute_result",
          "data": {
            "text/plain": [
              "[2, 4, 2, 52582, 12938, 222, 128, 2938, 21930984, 39283290]"
            ]
          },
          "metadata": {
            "tags": []
          },
          "execution_count": 25
        }
      ]
    },
    {
      "cell_type": "code",
      "metadata": {
        "id": "yVSkUz9kR4B0",
        "colab_type": "code",
        "colab": {
          "base_uri": "https://localhost:8080/",
          "height": 34
        },
        "outputId": "b93fffa0-2a49-4383-90e9-7ab1d70f5e26"
      },
      "source": [
        "type(even_numbers(list_1))"
      ],
      "execution_count": 26,
      "outputs": [
        {
          "output_type": "execute_result",
          "data": {
            "text/plain": [
              "list"
            ]
          },
          "metadata": {
            "tags": []
          },
          "execution_count": 26
        }
      ]
    },
    {
      "cell_type": "markdown",
      "metadata": {
        "id": "PEdXnP3OR_uC",
        "colab_type": "text"
      },
      "source": [
        "<h1> And Now it Works\n",
        "\n",
        "2 lines of code and 2 mins -> this is why Python is great for writing these types of snippets\n"
      ]
    },
    {
      "cell_type": "code",
      "metadata": {
        "id": "9wYG8TdTciuZ",
        "colab_type": "code",
        "colab": {
          "base_uri": "https://localhost:8080/",
          "height": 67
        },
        "outputId": "15371884-ba4c-41c8-f8d3-ef7ec0971a67"
      },
      "source": [
        "#  write it as a loop\n",
        "%%time\n",
        "ans=[]\n",
        "for i in range(0, len(list_1)):\n",
        "  if(i % 2 == 0):\n",
        "    ans.append(i)\n",
        "print(ans)"
      ],
      "execution_count": 27,
      "outputs": [
        {
          "output_type": "stream",
          "text": [
            "[0, 2, 4, 6, 8, 10, 12, 14, 16, 18]\n",
            "CPU times: user 645 µs, sys: 0 ns, total: 645 µs\n",
            "Wall time: 940 µs\n"
          ],
          "name": "stdout"
        }
      ]
    },
    {
      "cell_type": "code",
      "metadata": {
        "id": "twVHGQ6QU8Nx",
        "colab_type": "code",
        "colab": {}
      },
      "source": [
        ""
      ],
      "execution_count": 27,
      "outputs": []
    }
  ]
}