{
  "nbformat": 4,
  "nbformat_minor": 0,
  "metadata": {
    "colab": {
      "name": "array_odd_even_func.ipynb",
      "provenance": [],
      "collapsed_sections": [],
      "authorship_tag": "ABX9TyPfHPqvhxs+4oVJb9pflHY0",
      "include_colab_link": true
    },
    "kernelspec": {
      "name": "python3",
      "display_name": "Python 3"
    }
  },
  "cells": [
    {
      "cell_type": "markdown",
      "metadata": {
        "id": "view-in-github",
        "colab_type": "text"
      },
      "source": [
        "<a href=\"https://colab.research.google.com/github/JordanHoover/algorithms/blob/master/array_odd_even_func.ipynb\" target=\"_parent\"><img src=\"https://colab.research.google.com/assets/colab-badge.svg\" alt=\"Open In Colab\"/></a>"
      ]
    },
    {
      "cell_type": "code",
      "metadata": {
        "id": "9uptBBcFSPet",
        "colab_type": "code",
        "colab": {}
      },
      "source": [
        ""
      ],
      "execution_count": null,
      "outputs": []
    },
    {
      "cell_type": "code",
      "metadata": {
        "id": "G5BtzbAbPfEd",
        "colab_type": "code",
        "colab": {}
      },
      "source": [
        "#  create a function that will return even numbers from a list\n",
        "#  accepting a list of integers as the input\n",
        "def even_numbers(numbers: list):\n",
        "  return filter(lambda x: x%2==0, numbers)\n"
      ],
      "execution_count": null,
      "outputs": []
    },
    {
      "cell_type": "code",
      "metadata": {
        "id": "Bpu2F_36QKjq",
        "colab_type": "code",
        "colab": {}
      },
      "source": [
        "#  create a list to try on the function\n",
        "list_1 = [1,2,3,4]"
      ],
      "execution_count": null,
      "outputs": []
    },
    {
      "cell_type": "code",
      "metadata": {
        "id": "dTVXR5ejQNFH",
        "colab_type": "code",
        "colab": {
          "base_uri": "https://localhost:8080/",
          "height": 34
        },
        "outputId": "83a69cac-fa74-46e0-b79c-6a7587bb8ab9"
      },
      "source": [
        "# try it: \n",
        "\n",
        "# this doesn't work because the filter function actually returns a filter\n",
        "even_numbers(list_1)\n",
        "type(even_numbers(list_1))"
      ],
      "execution_count": null,
      "outputs": [
        {
          "output_type": "execute_result",
          "data": {
            "text/plain": [
              "filter"
            ]
          },
          "metadata": {
            "tags": []
          },
          "execution_count": 10
        }
      ]
    },
    {
      "cell_type": "code",
      "metadata": {
        "id": "ib1B7QJJRYiw",
        "colab_type": "code",
        "colab": {}
      },
      "source": [
        "#  turn result into list\n",
        "\n",
        "#  best way to do it is to modify the function to make it a list\n",
        "def even_numbers(numbers: list):\n",
        "  return list(filter(lambda x: x%2==0, numbers))\n"
      ],
      "execution_count": null,
      "outputs": []
    },
    {
      "cell_type": "code",
      "metadata": {
        "id": "rANAaejIR2dX",
        "colab_type": "code",
        "colab": {
          "base_uri": "https://localhost:8080/",
          "height": 34
        },
        "outputId": "82c9154b-3b50-4fa0-c744-a599ea0913ff"
      },
      "source": [
        "even_numbers(list_1)"
      ],
      "execution_count": null,
      "outputs": [
        {
          "output_type": "execute_result",
          "data": {
            "text/plain": [
              "[2, 4]"
            ]
          },
          "metadata": {
            "tags": []
          },
          "execution_count": 12
        }
      ]
    },
    {
      "cell_type": "code",
      "metadata": {
        "id": "yVSkUz9kR4B0",
        "colab_type": "code",
        "colab": {
          "base_uri": "https://localhost:8080/",
          "height": 34
        },
        "outputId": "f62337b7-beeb-4f39-a783-1680e9c92d63"
      },
      "source": [
        "type(even_numbers(list_1))"
      ],
      "execution_count": null,
      "outputs": [
        {
          "output_type": "execute_result",
          "data": {
            "text/plain": [
              "list"
            ]
          },
          "metadata": {
            "tags": []
          },
          "execution_count": 13
        }
      ]
    },
    {
      "cell_type": "markdown",
      "metadata": {
        "id": "PEdXnP3OR_uC",
        "colab_type": "text"
      },
      "source": [
        "<h1> And Now it Works"
      ]
    }
  ]
}