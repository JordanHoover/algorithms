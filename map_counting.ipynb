{
  "nbformat": 4,
  "nbformat_minor": 0,
  "metadata": {
    "colab": {
      "name": "map_counting.ipynb",
      "provenance": [],
      "authorship_tag": "ABX9TyOqT2stwQJz113JbPq1CTRW"
    },
    "kernelspec": {
      "name": "python3",
      "display_name": "Python 3"
    },
    "language_info": {
      "name": "python"
    }
  },
  "cells": [
    {
      "cell_type": "code",
      "metadata": {
        "id": "J0oLi3_B5xDo"
      },
      "source": [
        "sum_list = [2,4,8,15,10,12,20,12,15,13,21,12]"
      ],
      "execution_count": 33,
      "outputs": []
    },
    {
      "cell_type": "code",
      "metadata": {
        "id": "kvN3OV0_8BCs"
      },
      "source": [
        "d1 = {}"
      ],
      "execution_count": 65,
      "outputs": []
    },
    {
      "cell_type": "code",
      "metadata": {
        "id": "Q9WSJNXr8IsW"
      },
      "source": [
        "for item in sum_list:\n",
        "  if item in d1:\n",
        "    d1[item] += 1 \n",
        "  else: d1[item] = 1"
      ],
      "execution_count": 66,
      "outputs": []
    },
    {
      "cell_type": "code",
      "metadata": {
        "colab": {
          "base_uri": "https://localhost:8080/"
        },
        "id": "_IaB3UiE8gL_",
        "outputId": "35235856-b144-49d6-f764-944c739b66bf"
      },
      "source": [
        "d1"
      ],
      "execution_count": 67,
      "outputs": [
        {
          "output_type": "execute_result",
          "data": {
            "text/plain": [
              "{2: 1, 4: 1, 8: 1, 10: 1, 12: 3, 13: 1, 15: 2, 20: 1, 21: 1}"
            ]
          },
          "metadata": {
            "tags": []
          },
          "execution_count": 67
        }
      ]
    },
    {
      "cell_type": "code",
      "metadata": {
        "id": "rLAf0Kwl8s9_"
      },
      "source": [
        "d2= {\"2\": 1,\n",
        "     \"4\":1,\n",
        "     \"12\":3}"
      ],
      "execution_count": 68,
      "outputs": []
    },
    {
      "cell_type": "code",
      "metadata": {
        "id": "wGu-avRA9vBD"
      },
      "source": [
        ""
      ],
      "execution_count": null,
      "outputs": []
    }
  ]
}