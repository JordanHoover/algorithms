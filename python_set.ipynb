{
  "nbformat": 4,
  "nbformat_minor": 0,
  "metadata": {
    "colab": {
      "name": "python_set.ipynb",
      "provenance": [],
      "authorship_tag": "ABX9TyN3ggcD1VEviRxbPbKDxO3U"
    },
    "kernelspec": {
      "name": "python3",
      "display_name": "Python 3"
    },
    "language_info": {
      "name": "python"
    }
  },
  "cells": [
    {
      "cell_type": "code",
      "metadata": {
        "id": "vGNKOVbl5dmB"
      },
      "source": [
        "  def is_valid(code):\n",
        "    openers_to_closers = {\n",
        "        '(' : ')',\n",
        "        '{' : '}',\n",
        "        '[' : ']',\n",
        "    }\n",
        "    openers = set(openers_to_closers.keys())\n",
        "    closers = set(openers_to_closers.values())\n",
        "\n",
        "    openers_stack = []  \n",
        "    for char in code:\n",
        "        if char in openers:\n",
        "            openers_stack.append(char)\n",
        "        elif char in closers:\n",
        "            if not openers_stack:\n",
        "                return False\n",
        "            else:\n",
        "                last_unclosed_opener = openers_stack.pop()\n",
        "                # If this closer doesn't correspond to the most recently\n",
        "                # seen unclosed opener, short-circuit, returning False\n",
        "                if not openers_to_closers[last_unclosed_opener] == char:\n",
        "                    return False\n",
        "\n",
        "    return openers_stack == []"
      ],
      "execution_count": 1,
      "outputs": []
    },
    {
      "cell_type": "code",
      "metadata": {
        "id": "uFFghlOY5g6D"
      },
      "source": [
        "openers_to_closers = {\n",
        "        '(' : ')',\n",
        "        '{' : '}',\n",
        "        '[' : ']',\n",
        "    }\n",
        "openers = set(openers_to_closers.keys())\n",
        "closers = set(openers_to_closers.values())"
      ],
      "execution_count": 4,
      "outputs": []
    },
    {
      "cell_type": "code",
      "metadata": {
        "colab": {
          "base_uri": "https://localhost:8080/"
        },
        "id": "4yXMwzsE5lHB",
        "outputId": "d8adb357-8d2c-41b7-83a4-c1b10591618a"
      },
      "source": [
        "openers_to_closers"
      ],
      "execution_count": 6,
      "outputs": [
        {
          "output_type": "execute_result",
          "data": {
            "text/plain": [
              "{'(': ')', '[': ']', '{': '}'}"
            ]
          },
          "metadata": {
            "tags": []
          },
          "execution_count": 6
        }
      ]
    },
    {
      "cell_type": "code",
      "metadata": {
        "colab": {
          "base_uri": "https://localhost:8080/"
        },
        "id": "JuOK7HOX5txH",
        "outputId": "665a4d82-6a49-48b9-c6f2-93e31c0b44d5"
      },
      "source": [
        "type(openers)"
      ],
      "execution_count": 9,
      "outputs": [
        {
          "output_type": "execute_result",
          "data": {
            "text/plain": [
              "set"
            ]
          },
          "metadata": {
            "tags": []
          },
          "execution_count": 9
        }
      ]
    },
    {
      "cell_type": "code",
      "metadata": {
        "colab": {
          "base_uri": "https://localhost:8080/"
        },
        "id": "sFlHpioI5ycO",
        "outputId": "cdbf7fa0-57d2-4f6f-fd93-06671e210c1a"
      },
      "source": [
        "openers_to_closers.values()"
      ],
      "execution_count": 11,
      "outputs": [
        {
          "output_type": "execute_result",
          "data": {
            "text/plain": [
              "dict_values([')', '}', ']'])"
            ]
          },
          "metadata": {
            "tags": []
          },
          "execution_count": 11
        }
      ]
    },
    {
      "cell_type": "code",
      "metadata": {
        "colab": {
          "base_uri": "https://localhost:8080/"
        },
        "id": "WfOhxIHz51pO",
        "outputId": "5037cb0d-8396-4be6-9e00-9f3c8a91e375"
      },
      "source": [
        "openers_to_closers.keys()"
      ],
      "execution_count": 12,
      "outputs": [
        {
          "output_type": "execute_result",
          "data": {
            "text/plain": [
              "dict_keys(['(', '{', '['])"
            ]
          },
          "metadata": {
            "tags": []
          },
          "execution_count": 12
        }
      ]
    },
    {
      "cell_type": "code",
      "metadata": {
        "id": "Ss0TNxeV53jR"
      },
      "source": [
        ""
      ],
      "execution_count": null,
      "outputs": []
    }
  ]
}