{
  "nbformat": 4,
  "nbformat_minor": 0,
  "metadata": {
    "colab": {
      "name": "python_questions.ipynb",
      "provenance": [],
      "collapsed_sections": [],
      "authorship_tag": "ABX9TyNWWlG+iFJ8vvgI/+ruks4g"
    },
    "kernelspec": {
      "name": "python3",
      "display_name": "Python 3"
    },
    "language_info": {
      "name": "python"
    }
  },
  "cells": [
    {
      "cell_type": "code",
      "metadata": {
        "colab": {
          "base_uri": "https://localhost:8080/"
        },
        "id": "aYP7TrjaGpim",
        "outputId": "9e69f191-8fa1-4818-e9a6-caf5868e6eae"
      },
      "source": [
        "# find prime numbers in a range\n",
        "for n in range(10,30):\n",
        "\n",
        "  # for each number, if the number can't be divided by any other number from 2 \n",
        "  # up to that number, then print it out as a prime number\n",
        "  # so, if ALL the mod of n and every num up to it is not 0 (not including n) is not 0, then it's prime\n",
        "  if all(n%i!=0 for i in range(2,n)):\n",
        "    print(n)"
      ],
      "execution_count": 18,
      "outputs": [
        {
          "output_type": "stream",
          "text": [
            "11\n",
            "13\n",
            "17\n",
            "19\n",
            "23\n",
            "29\n"
          ],
          "name": "stdout"
        }
      ]
    },
    {
      "cell_type": "code",
      "metadata": {
        "colab": {
          "base_uri": "https://localhost:8080/"
        },
        "id": "H-5n_ru4G4-6",
        "outputId": "21df9d33-ec77-4964-bb9e-07e4a41d7460"
      },
      "source": [
        "# find prime prime nums in a range with another method\n",
        "for n in range(10,30):\n",
        "  for i in range(2,n+1):\n",
        "    if n%i==0: break\n",
        "\n",
        "    # so now we have made it through every number up to n-1, so if n is 11,\n",
        "    # then we made it through 10, and 11/10 was not remainder 0, then n is prime\n",
        "    if i==n-1: print(n)"
      ],
      "execution_count": 21,
      "outputs": [
        {
          "output_type": "stream",
          "text": [
            "11\n",
            "13\n",
            "17\n",
            "19\n",
            "23\n",
            "29\n"
          ],
          "name": "stdout"
        }
      ]
    },
    {
      "cell_type": "code",
      "metadata": {
        "id": "vEmFA6DrIQR4"
      },
      "source": [
        ""
      ],
      "execution_count": null,
      "outputs": []
    }
  ]
}