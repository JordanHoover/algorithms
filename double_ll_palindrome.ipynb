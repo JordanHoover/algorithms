{
  "nbformat": 4,
  "nbformat_minor": 0,
  "metadata": {
    "colab": {
      "name": "double_ll_palindrome.ipynb",
      "provenance": [],
      "collapsed_sections": [],
      "authorship_tag": "ABX9TyMPVsWvR8abDio65SWwFGwE"
    },
    "language_info": {
      "name": "python"
    },
    "kernelspec": {
      "name": "python3",
      "display_name": "Python 3"
    }
  },
  "cells": [
    {
      "cell_type": "code",
      "metadata": {
        "id": "nQJ6RuxToZl2"
      },
      "source": [
        "#  Create a Node Class\n",
        "\n",
        "class Node:\n",
        "\n",
        "  def __init__(self, data, next, prev):\n",
        "    self.data = data\n",
        "    self.next = next\n",
        "    self.prev = prev\n",
        "\n"
      ],
      "execution_count": 2,
      "outputs": []
    },
    {
      "cell_type": "code",
      "metadata": {
        "id": "Z0-u1ZDBoyCo"
      },
      "source": [
        "#  Create a function to push new node into the double linked list\n",
        "\n",
        "def push(head_ref, new_data):\n",
        "  # create new Node in linked list, with new data, using a reference to the \n",
        "  # head/front of the list, and make the new node the new front of the list\n",
        "  new_node = Node(data=new_data, next=head_ref, prev=None)\n",
        "\n",
        "  # if there is already a head ref, we are going to move it around\n",
        "  # and make the new node coming in the new head ref\n",
        "  if head_ref != None:\n",
        "      head_ref.prev = new_node\n",
        "      head_ref = new_node\n",
        "          \n",
        "  return new_node\n",
        "\n",
        "  # if there isn't a head reference then keep the current head ref \n",
        "  # the same after attempting to \n",
        "\n",
        "\n",
        "\n",
        "\n"
      ],
      "execution_count": 33,
      "outputs": []
    },
    {
      "cell_type": "markdown",
      "metadata": {
        "id": "X24yKPz02opY"
      },
      "source": [
        "# at the start of creating the list\n",
        "- the head_ref is None\n",
        "- head is set to push(head, 'a') or some char\n",
        "- which is push(None, 'a')\n",
        "- in the push function, head_ref is None,\n",
        "- a new node is created, with the data 'a', and head_ref of None, and prev as None too\n",
        "- \n"
      ]
    },
    {
      "cell_type": "code",
      "metadata": {
        "id": "wBOPw7up4mBU"
      },
      "source": [
        "    head = None \n",
        "    head = push(head, 'l') \n",
        "    head = push(head, 'e') \n",
        "    head = push(head, 'v') \n",
        "    head = push(head, 'e') \n",
        "    head = push(head, 'l') "
      ],
      "execution_count": 68,
      "outputs": []
    },
    {
      "cell_type": "code",
      "metadata": {
        "id": "Ufzws9lS45PF"
      },
      "source": [
        "def isPalindrome(left): \n",
        "   \n",
        "    if left == None: \n",
        "        return True \n",
        "  \n",
        "    # Find rightmost node \n",
        "    right = left \n",
        "    while right.next != None: \n",
        "        right = right.next \n",
        "\n",
        "    while left != right:\n",
        "       \n",
        "        if left.data != right.data: \n",
        "            return False \n",
        "  \n",
        "        left = left.next \n",
        "        right = right.prev \n",
        "       \n",
        "    return True "
      ],
      "execution_count": 75,
      "outputs": []
    },
    {
      "cell_type": "code",
      "metadata": {
        "colab": {
          "base_uri": "https://localhost:8080/"
        },
        "id": "2X65dL6M5Esi",
        "outputId": "7ed22de5-9c86-4ad2-f1d3-63139eb6ae8c"
      },
      "source": [
        "isPalindrome(head)"
      ],
      "execution_count": 76,
      "outputs": [
        {
          "output_type": "execute_result",
          "data": {
            "text/plain": [
              "True"
            ]
          },
          "metadata": {
            "tags": []
          },
          "execution_count": 76
        }
      ]
    },
    {
      "cell_type": "code",
      "metadata": {
        "colab": {
          "base_uri": "https://localhost:8080/"
        },
        "id": "Uqbh-apB9NkR",
        "outputId": "1fdc64dd-abca-4fe0-aa6d-031c857f2118"
      },
      "source": [
        "# test with even numbered list\n",
        "head = None \n",
        "head = push(head, 'l') \n",
        "head = push(head, 'e') \n",
        "head = push(head, 'v') \n",
        "head = push(head, 'v') \n",
        "head = push(head, 'e') \n",
        "head = push(head, 'l') \n",
        "\n",
        "isPalindrome(head)"
      ],
      "execution_count": 79,
      "outputs": [
        {
          "output_type": "execute_result",
          "data": {
            "text/plain": [
              "True"
            ]
          },
          "metadata": {
            "tags": []
          },
          "execution_count": 79
        }
      ]
    },
    {
      "cell_type": "code",
      "metadata": {
        "colab": {
          "base_uri": "https://localhost:8080/"
        },
        "id": "bp7AS4H8Agu3",
        "outputId": "2dd8d5d3-c67d-452e-b54a-c67e613b1d54"
      },
      "source": [
        "# test a false case\n",
        "head = None \n",
        "head = push(head, 'l') \n",
        "head = push(head, 'e') \n",
        "head = push(head, 'z') \n",
        "head = push(head, 'v') \n",
        "head = push(head, 'e') \n",
        "head = push(head, 'l') \n",
        "\n",
        "isPalindrome(head)"
      ],
      "execution_count": 80,
      "outputs": [
        {
          "output_type": "execute_result",
          "data": {
            "text/plain": [
              "False"
            ]
          },
          "metadata": {
            "tags": []
          },
          "execution_count": 80
        }
      ]
    },
    {
      "cell_type": "code",
      "metadata": {
        "id": "JHVY6Hj9AsEk"
      },
      "source": [
        "# test some randomly generated lists"
      ],
      "execution_count": null,
      "outputs": []
    }
  ]
}