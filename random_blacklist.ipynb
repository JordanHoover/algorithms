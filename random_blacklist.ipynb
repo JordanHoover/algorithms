{
  "nbformat": 4,
  "nbformat_minor": 0,
  "metadata": {
    "colab": {
      "name": "random_blacklist.ipynb",
      "provenance": [],
      "authorship_tag": "ABX9TyPIla7FyTZIYkNnh3H18LZ+",
      "include_colab_link": true
    },
    "kernelspec": {
      "name": "python3",
      "display_name": "Python 3"
    }
  },
  "cells": [
    {
      "cell_type": "markdown",
      "metadata": {
        "id": "view-in-github",
        "colab_type": "text"
      },
      "source": [
        "<a href=\"https://colab.research.google.com/github/JordanHoover/algorithms/blob/master/random_blacklist.ipynb\" target=\"_parent\"><img src=\"https://colab.research.google.com/assets/colab-badge.svg\" alt=\"Open In Colab\"/></a>"
      ]
    },
    {
      "cell_type": "markdown",
      "metadata": {
        "id": "MtY5fk5f_X9f"
      },
      "source": [
        "<h2 background=\"blue\"> Generate a random number that is in a certain range, and not on a blacklist </h2>\n"
      ]
    },
    {
      "cell_type": "markdown",
      "metadata": {
        "id": "QXec7PXm_j_M"
      },
      "source": [
        "# question from Google\n",
        "Given an integer n and a list of integers l, write a function that randomly generates a number from 0 to n-1 that isn't in l (uniform)"
      ]
    },
    {
      "cell_type": "markdown",
      "metadata": {
        "id": "LFku6JPzIQHF"
      },
      "source": [
        "<h3> breaking the function up into multiple functions </h3>\n",
        "<li> create a function for each section,\n",
        "<li> and then run the functions in order,\n",
        "<li> simiar to the data transformation steps that are done in data pipelines\n",
        "\n",
        "<li> reducting complexity,\n",
        "<li> making everything easier to understand,\n",
        "<li> and possibly even allowing both reuse and flexibity for any future needed changes\n",
        "\n",
        "<h3> and then if it needs to be all in 1 function, then doing that is still easier by combining the modular functions into 1 bigger function that does all of that </h3>\n",
        "<li> and that I think is generally good swe practices anyway\n",
        "<li> \n"
      ]
    },
    {
      "cell_type": "markdown",
      "metadata": {
        "id": "SMmC0HPPIPBz"
      },
      "source": [
        ""
      ]
    },
    {
      "cell_type": "code",
      "metadata": {
        "id": "PBwdXNgDMFbu"
      },
      "source": [
        "import random"
      ],
      "execution_count": 30,
      "outputs": []
    },
    {
      "cell_type": "code",
      "metadata": {
        "id": "vFJYKI1PF62M"
      },
      "source": [
        "def gen_number(n: int, l: list):\n",
        "  pass"
      ],
      "execution_count": 31,
      "outputs": []
    },
    {
      "cell_type": "markdown",
      "metadata": {
        "id": "jKqAkiV-F71G"
      },
      "source": [
        ""
      ]
    },
    {
      "cell_type": "code",
      "metadata": {
        "id": "70IF3ObXF8Mm"
      },
      "source": [
        "# generate a list from 0 to n\n",
        "def create_list(n:int):\n",
        "  return [item for item in range (0,n)]"
      ],
      "execution_count": 32,
      "outputs": []
    },
    {
      "cell_type": "code",
      "metadata": {
        "id": "VQ1NJFi4JiEG"
      },
      "source": [
        "# create the list\n",
        "n_list = create_list(10)"
      ],
      "execution_count": 33,
      "outputs": []
    },
    {
      "cell_type": "code",
      "metadata": {
        "id": "Ym7K-AClLSGP"
      },
      "source": [
        "# create the blacklist\n",
        "l = [1,5,9]"
      ],
      "execution_count": 34,
      "outputs": []
    },
    {
      "cell_type": "code",
      "metadata": {
        "id": "29jzLFuwHVkI"
      },
      "source": [
        "# remove numubers from list\n",
        "def remove_list(l: list, n_lst: list):\n",
        "#. return a list that contains every item in the 0 to n-1 list except for items in the l blacklist\n",
        "  return [i for i in n_lst if i not in l] \n"
      ],
      "execution_count": 35,
      "outputs": []
    },
    {
      "cell_type": "code",
      "metadata": {
        "id": "CcfPc5GjH4L8"
      },
      "source": [
        "# create a cleaned list with the numbers removed\n",
        "cleaned_list = remove_list(l = l, n_lst=n_list)"
      ],
      "execution_count": 36,
      "outputs": []
    },
    {
      "cell_type": "code",
      "metadata": {
        "id": "SRzaFpWcLbuZ"
      },
      "source": [
        "# now just have to pick a random number from the list \n",
        "def pick_random(cl: list):\n",
        "  return random.choice(cleaned_list)"
      ],
      "execution_count": 37,
      "outputs": []
    },
    {
      "cell_type": "code",
      "metadata": {
        "id": "EDzZKHY7MRIJ",
        "outputId": "8aeacd09-052e-4119-9b28-cffa062074fa",
        "colab": {
          "base_uri": "https://localhost:8080/"
        }
      },
      "source": [
        "pick_random(cleaned_list)"
      ],
      "execution_count": 38,
      "outputs": [
        {
          "output_type": "execute_result",
          "data": {
            "text/plain": [
              "2"
            ]
          },
          "metadata": {
            "tags": []
          },
          "execution_count": 38
        }
      ]
    },
    {
      "cell_type": "code",
      "metadata": {
        "id": "EqoZUuiPMc0I"
      },
      "source": [
        ""
      ],
      "execution_count": 38,
      "outputs": []
    }
  ]
}