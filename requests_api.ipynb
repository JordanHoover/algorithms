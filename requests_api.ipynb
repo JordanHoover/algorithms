{
  "nbformat": 4,
  "nbformat_minor": 0,
  "metadata": {
    "colab": {
      "name": "requests_api.ipynb",
      "provenance": [],
      "collapsed_sections": [],
      "authorship_tag": "ABX9TyNTJSaeH3DeLT/55JfABjt9"
    },
    "kernelspec": {
      "name": "python3",
      "display_name": "Python 3"
    },
    "language_info": {
      "name": "python"
    }
  },
  "cells": [
    {
      "cell_type": "code",
      "metadata": {
        "id": "Acwymcql08vl"
      },
      "source": [
        "import requests"
      ],
      "execution_count": 2,
      "outputs": []
    },
    {
      "cell_type": "code",
      "metadata": {
        "id": "RYbksIKR1BbC"
      },
      "source": [
        "# make a get request\n",
        "payload = {\"firstName\": \"John\", \"lastName\": \"Smith\"}\n",
        "\n",
        "r = requests.get(\"https://httpbin.org/get\", params=payload)"
      ],
      "execution_count": 3,
      "outputs": []
    },
    {
      "cell_type": "code",
      "metadata": {
        "colab": {
          "base_uri": "https://localhost:8080/"
        },
        "id": "jLREahqC1Uuv",
        "outputId": "c4f394ab-e590-4865-ca4d-ef2532aee8f4"
      },
      "source": [
        "print(r.text)"
      ],
      "execution_count": 4,
      "outputs": [
        {
          "output_type": "stream",
          "text": [
            "{\n",
            "  \"args\": {\n",
            "    \"firstName\": \"John\", \n",
            "    \"lastName\": \"Smith\"\n",
            "  }, \n",
            "  \"headers\": {\n",
            "    \"Accept\": \"*/*\", \n",
            "    \"Accept-Encoding\": \"gzip, deflate\", \n",
            "    \"Host\": \"httpbin.org\", \n",
            "    \"User-Agent\": \"python-requests/2.23.0\", \n",
            "    \"X-Amzn-Trace-Id\": \"Root=1-608f1458-6dc1eef335d3a0794f51ee1c\"\n",
            "  }, \n",
            "  \"origin\": \"35.194.154.234\", \n",
            "  \"url\": \"https://httpbin.org/get?firstName=John&lastName=Smith\"\n",
            "}\n",
            "\n"
          ],
          "name": "stdout"
        }
      ]
    },
    {
      "cell_type": "code",
      "metadata": {
        "colab": {
          "base_uri": "https://localhost:8080/"
        },
        "id": "hIAYvOvI1_4X",
        "outputId": "b8e7d441-0451-4310-ef97-1bec852c1000"
      },
      "source": [
        "# make a post request: \n",
        "payload = {\"firstName\": \"John\", \"lastName\": \"Smith\"}\n",
        "\n",
        "r = requests.post(\"https://httpbin.org/post\", data=payload)\n",
        "print(r.text)"
      ],
      "execution_count": 5,
      "outputs": [
        {
          "output_type": "stream",
          "text": [
            "{\n",
            "  \"args\": {}, \n",
            "  \"data\": \"\", \n",
            "  \"files\": {}, \n",
            "  \"form\": {\n",
            "    \"firstName\": \"John\", \n",
            "    \"lastName\": \"Smith\"\n",
            "  }, \n",
            "  \"headers\": {\n",
            "    \"Accept\": \"*/*\", \n",
            "    \"Accept-Encoding\": \"gzip, deflate\", \n",
            "    \"Content-Length\": \"29\", \n",
            "    \"Content-Type\": \"application/x-www-form-urlencoded\", \n",
            "    \"Host\": \"httpbin.org\", \n",
            "    \"User-Agent\": \"python-requests/2.23.0\", \n",
            "    \"X-Amzn-Trace-Id\": \"Root=1-608f1459-319bc266543104a147b07526\"\n",
            "  }, \n",
            "  \"json\": null, \n",
            "  \"origin\": \"35.194.154.234\", \n",
            "  \"url\": \"https://httpbin.org/post\"\n",
            "}\n",
            "\n"
          ],
          "name": "stdout"
        }
      ]
    },
    {
      "cell_type": "code",
      "metadata": {
        "id": "YvZeLxCs2Lnq",
        "colab": {
          "base_uri": "https://localhost:8080/"
        },
        "outputId": "b4d1d9f8-9f92-4d22-a942-1cb60ee5f155"
      },
      "source": [
        "# coin gecko API\n",
        "\n",
        "url = \"https://api.coingecko.com/api/v3/simple/price?ids=ethereum&vs_currencies=usd\"\n",
        "\n",
        "payload={}\n",
        "headers = {\n",
        "  'Accept': 'application/json'#,\n",
        "  #'Cookie': '__cfduid=d16eb9caf94a57aeb7f57f8404282a7591619989522'\n",
        "}\n",
        "\n",
        "response = requests.request(\"GET\", url, headers=headers, data=payload)\n",
        "\n",
        "print(response.text)\n"
      ],
      "execution_count": 7,
      "outputs": [
        {
          "output_type": "stream",
          "text": [
            "{\"ethereum\":{\"usd\":2974.58}}\n"
          ],
          "name": "stdout"
        }
      ]
    },
    {
      "cell_type": "code",
      "metadata": {
        "id": "dcYmDZHR5yOH"
      },
      "source": [
        ""
      ],
      "execution_count": 6,
      "outputs": []
    }
  ]
}