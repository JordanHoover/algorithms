{
  "nbformat": 4,
  "nbformat_minor": 0,
  "metadata": {
    "colab": {
      "name": "requests_api.ipynb",
      "provenance": [],
      "collapsed_sections": [],
      "authorship_tag": "ABX9TyPmEXPBjc3IfzMLTP2Ibr29"
    },
    "kernelspec": {
      "name": "python3",
      "display_name": "Python 3"
    },
    "language_info": {
      "name": "python"
    }
  },
  "cells": [
    {
      "cell_type": "code",
      "metadata": {
        "id": "Acwymcql08vl"
      },
      "source": [
        "import requests"
      ],
      "execution_count": 1,
      "outputs": []
    },
    {
      "cell_type": "code",
      "metadata": {
        "id": "RYbksIKR1BbC"
      },
      "source": [
        "# make a get request\n",
        "payload = {\"firstName\": \"John\", \"lastName\": \"Smith\"}\n",
        "\n",
        "r = requests.get(\"https://httpbin.org/get\", params=payload)"
      ],
      "execution_count": 4,
      "outputs": []
    },
    {
      "cell_type": "code",
      "metadata": {
        "colab": {
          "base_uri": "https://localhost:8080/"
        },
        "id": "jLREahqC1Uuv",
        "outputId": "9784aacb-8519-4bf7-8f8c-e5f33658a165"
      },
      "source": [
        "print(r.text)"
      ],
      "execution_count": 5,
      "outputs": [
        {
          "output_type": "stream",
          "text": [
            "{\n",
            "  \"args\": {\n",
            "    \"firstName\": \"John\", \n",
            "    \"lastName\": \"Smith\"\n",
            "  }, \n",
            "  \"headers\": {\n",
            "    \"Accept\": \"*/*\", \n",
            "    \"Accept-Encoding\": \"gzip, deflate\", \n",
            "    \"Host\": \"httpbin.org\", \n",
            "    \"User-Agent\": \"python-requests/2.23.0\", \n",
            "    \"X-Amzn-Trace-Id\": \"Root=1-608cc290-7011539a2dbc4f7828e273d1\"\n",
            "  }, \n",
            "  \"origin\": \"35.231.46.233\", \n",
            "  \"url\": \"https://httpbin.org/get?firstName=John&lastName=Smith\"\n",
            "}\n",
            "\n"
          ],
          "name": "stdout"
        }
      ]
    },
    {
      "cell_type": "code",
      "metadata": {
        "colab": {
          "base_uri": "https://localhost:8080/"
        },
        "id": "hIAYvOvI1_4X",
        "outputId": "5c48205b-a271-4a5b-ee54-a78ec0550994"
      },
      "source": [
        "# make a post request: \n",
        "payload = {\"firstName\": \"John\", \"lastName\": \"Smith\"}\n",
        "\n",
        "r = requests.post(\"https://httpbin.org/post\", data=payload)\n",
        "print(r.text)"
      ],
      "execution_count": 7,
      "outputs": [
        {
          "output_type": "stream",
          "text": [
            "{\n",
            "  \"args\": {}, \n",
            "  \"data\": \"\", \n",
            "  \"files\": {}, \n",
            "  \"form\": {\n",
            "    \"firstName\": \"John\", \n",
            "    \"lastName\": \"Smith\"\n",
            "  }, \n",
            "  \"headers\": {\n",
            "    \"Accept\": \"*/*\", \n",
            "    \"Accept-Encoding\": \"gzip, deflate\", \n",
            "    \"Content-Length\": \"29\", \n",
            "    \"Content-Type\": \"application/x-www-form-urlencoded\", \n",
            "    \"Host\": \"httpbin.org\", \n",
            "    \"User-Agent\": \"python-requests/2.23.0\", \n",
            "    \"X-Amzn-Trace-Id\": \"Root=1-608cc2e1-3b07c91b7d1f17162e82d988\"\n",
            "  }, \n",
            "  \"json\": null, \n",
            "  \"origin\": \"35.231.46.233\", \n",
            "  \"url\": \"https://httpbin.org/post\"\n",
            "}\n",
            "\n"
          ],
          "name": "stdout"
        }
      ]
    },
    {
      "cell_type": "code",
      "metadata": {
        "id": "YvZeLxCs2Lnq"
      },
      "source": [
        ""
      ],
      "execution_count": null,
      "outputs": []
    }
  ]
}